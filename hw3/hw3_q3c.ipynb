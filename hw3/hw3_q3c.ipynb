{
  "nbformat": 4,
  "nbformat_minor": 0,
  "metadata": {
    "colab": {
      "provenance": [],
      "gpuType": "A100"
    },
    "kernelspec": {
      "name": "python3",
      "display_name": "Python 3"
    },
    "language_info": {
      "name": "python"
    },
    "accelerator": "GPU"
  },
  "cells": [
    {
      "cell_type": "code",
      "source": [
        "import torch\n",
        "import torch.nn as nn\n",
        "import torch.nn.functional as F\n",
        "import numpy as np\n",
        "import matplotlib.pyplot as plt"
      ],
      "metadata": {
        "id": "nSkzAENDFtFN"
      },
      "execution_count": 369,
      "outputs": []
    },
    {
      "cell_type": "code",
      "source": [
        "with open('pg100.txt', 'r') as f:\n",
        "  data1 = f.read()\n",
        "with open('pg2600.txt', 'r') as f:\n",
        "  data2 = f.read()\n",
        "with open('pg71990.txt', 'r') as f:\n",
        "  data3 = f.read()\n",
        "\n",
        "data = data1 + data2 + data3"
      ],
      "metadata": {
        "id": "zd2rZCTRF3x1"
      },
      "execution_count": 370,
      "outputs": []
    },
    {
      "cell_type": "code",
      "source": [
        "class Tokenizer:\n",
        "  def __init__(self,data):\n",
        "    self.data = data\n",
        "    self.voc = sorted(list(set(self.data)))\n",
        "    self.voc_size = len(self.voc)\n",
        "    self.int2char = {i:c for i,c in enumerate(self.voc)}\n",
        "    self.char2int = {c:i for i,c in self.int2char.items()}\n",
        "\n",
        "  def encode(self,char):\n",
        "    return torch.tensor([self.char2int[c] for c in char],dtype=torch.long)\n",
        "\n",
        "  def decode(self,char):\n",
        "    return ''.join([self.int2char[i.item()] for i in char])\n",
        "\n",
        "tokenizer = Tokenizer(data)"
      ],
      "metadata": {
        "id": "ayfzfKOUF6uT"
      },
      "execution_count": 371,
      "outputs": []
    },
    {
      "cell_type": "code",
      "source": [
        "class Loader:\n",
        "  def __init__(self,HyperParam, val=False) -> None:\n",
        "    self.tokenizer = Tokenizer(data)\n",
        "    self.val = val\n",
        "    self.dataset = self.tokenizer.encode(self.tokenizer.data)\n",
        "    if self.val:\n",
        "        self.data = self.dataset[int(0.8*len(self.dataset)):]\n",
        "    else:\n",
        "        self.data = self.dataset[:int(0.8*len(self.dataset))]\n",
        "    self.context_size = HyperParam.context_size\n",
        "    self.batch_size = HyperParam.batch_size\n",
        "\n",
        "  def __len__(self):\n",
        "    return len(self.data)\n",
        "\n",
        "  def context_size(self):\n",
        "    return self.context_size\n",
        "\n",
        "  def voc_size(self):\n",
        "    return self.tokenizer.voc_size\n",
        "\n",
        "  def batchify(self):\n",
        "    index = torch.randint(len(self.data) - self.context_size, (self.batch_size,))\n",
        "    input = torch.stack([self.data[i:i+self.context_size] for i in index])\n",
        "    label = torch.stack([self.data[i+1:i+self.context_size+1] for i in index])\n",
        "    return input,label"
      ],
      "metadata": {
        "id": "YZTaJ0sHGczC"
      },
      "execution_count": 372,
      "outputs": []
    },
    {
      "cell_type": "code",
      "source": [
        "class HyperParam:\n",
        "  context_size = 128\n",
        "  batch_size = 64\n",
        "  voc_size = tokenizer.voc_size\n",
        "  embed_size = 128\n",
        "  headn = 2\n",
        "  head_size = embed_size // headn\n",
        "  n_layers = 3\n",
        "  updates = 50000\n",
        "  val_updates = 1000\n",
        "  lr = 1e-4\n",
        "  attention_dropout = 0.2\n",
        "  context_dropout = 0.2\n",
        "  device = 'cuda' if torch.cuda.is_available() else 'cpu'"
      ],
      "metadata": {
        "id": "6jv4GuXcF7rq"
      },
      "execution_count": 373,
      "outputs": []
    },
    {
      "cell_type": "code",
      "source": [
        "class HeadModule(nn.Module):\n",
        "  def __init__(self, HyperParam):\n",
        "    super().__init__()\n",
        "    self.context_size = HyperParam.context_size\n",
        "    self.embed_size = HyperParam.embed_size\n",
        "    self.head_size = HyperParam.head_size\n",
        "    self.k = nn.Linear(self.embed_size, self.head_size, bias=False)\n",
        "    self.q = nn.Linear(self.embed_size, self.head_size, bias=False)\n",
        "    self.v = nn.Linear(self.embed_size, self.head_size, bias=False)\n",
        "    self.register_buffer('tril', torch.tril(torch.ones(self.context_size,self.context_size)))\n",
        "    self.dropout = nn.Dropout(HyperParam.attention_dropout)\n",
        "\n",
        "  def forward(self, x):\n",
        "    b,t,c = x.shape\n",
        "    k = self.k(x)\n",
        "    q = self.q(x)\n",
        "    w = q@k.transpose(-2,-1) * (c ** 0.5)\n",
        "    w = w.masked_fill(self.tril[:t,:t]==0,float('-inf'))\n",
        "    w = F.softmax(w, dim=-1)\n",
        "    w = self.dropout(w)\n",
        "    v = self.v(x)\n",
        "    out = w @ v\n",
        "    return out"
      ],
      "metadata": {
        "id": "3YTgxSElF93g"
      },
      "execution_count": 374,
      "outputs": []
    },
    {
      "cell_type": "code",
      "source": [
        "class MultiHead(nn.Module):\n",
        "  def __init__(self, HyperParam):\n",
        "    super().__init__()\n",
        "    self.headn = HyperParam.headn\n",
        "    self.head_size = HyperParam.head_size\n",
        "    self.head = nn.ModuleList([HeadModule(HyperParam) for _ in range(self.headn)])\n",
        "    self.proj = nn.Linear(HyperParam.embed_size, HyperParam.embed_size)\n",
        "    self.dropout = nn.Dropout(HyperParam.attention_dropout)\n",
        "\n",
        "  def forward(self,x):\n",
        "    x = torch.cat([hd(x) for hd in self.head],dim=-1)\n",
        "    x = self.proj(x)\n",
        "    x = self.dropout(x)\n",
        "    return x"
      ],
      "metadata": {
        "id": "l6awTe4ZGCFB"
      },
      "execution_count": 375,
      "outputs": []
    },
    {
      "cell_type": "code",
      "source": [
        "class FeedForward(nn.Module):\n",
        "  def __init__(self, HyperParam):\n",
        "    super().__init__()\n",
        "    self.net = nn.Sequential(\n",
        "        nn.Linear(HyperParam.embed_size,HyperParam.embed_size * 4),\n",
        "        nn.ReLU(),\n",
        "        nn.Linear(HyperParam.embed_size * 4, HyperParam.embed_size),\n",
        "        nn.Dropout(HyperParam.context_dropout)\n",
        "    )\n",
        "  def forward(self,x):\n",
        "    return self.net(x)"
      ],
      "metadata": {
        "id": "qmH1mJIVGFBu"
      },
      "execution_count": 376,
      "outputs": []
    },
    {
      "cell_type": "code",
      "source": [
        "class Transformer(nn.Module):\n",
        "  def __init__(self, HyperParam):\n",
        "    super().__init__()\n",
        "    self.attention = MultiHead(HyperParam)\n",
        "    self.feed = FeedForward(HyperParam)\n",
        "    self.layer1 = nn.LayerNorm(HyperParam.embed_size)\n",
        "    self.layer2 = nn.LayerNorm(HyperParam.embed_size)\n",
        "\n",
        "  def forward(self,x):\n",
        "    x = x + self.attention(self.layer1(x))\n",
        "    x = x + self.feed(self.layer2(x))\n",
        "\n",
        "    return x"
      ],
      "metadata": {
        "id": "RKIa23jhGKL4"
      },
      "execution_count": 377,
      "outputs": []
    },
    {
      "cell_type": "code",
      "source": [
        "class TransformerModel(nn.Module):\n",
        "  def __init__(self,HyperParam):\n",
        "    super().__init__()\n",
        "    self.embed_size = HyperParam.embed_size\n",
        "    self.context_size = HyperParam.context_size\n",
        "    self.tokens = nn.Embedding(HyperParam.voc_size,self.embed_size)\n",
        "    self.position_embedding = nn.Embedding(self.context_size, self.embed_size)\n",
        "    self.layers = nn.Sequential(\n",
        "      *[Transformer(HyperParam)]*HyperParam.n_layers,\n",
        "      nn.LayerNorm(self.embed_size)\n",
        "    )\n",
        "    self.head = nn.Linear(self.embed_size,HyperParam.voc_size)\n",
        "\n",
        "  def forward(self,index):\n",
        "    i,j = index.shape\n",
        "    token = self.tokens(index)\n",
        "    position = self.position_embedding(torch.arange(j,device=HyperParam.device))\n",
        "    x = token + position\n",
        "    x = self.layers(x)\n",
        "    logits = self.head(x)\n",
        "    return logits\n",
        "\n",
        "\n",
        "  def generate(self,index,total):\n",
        "    for _ in range(total):\n",
        "      index_cond = index[:, -self.context_size:]\n",
        "      logits= self(index_cond)\n",
        "      logits = logits[:, -1, :]\n",
        "      probs = F.softmax(logits, dim=-1)\n",
        "      index_next = torch.multinomial(probs, num_samples=1)\n",
        "      index = torch.cat((index, index_next), dim=1)\n",
        "    return index"
      ],
      "metadata": {
        "id": "HRt1HAXkGLC6"
      },
      "execution_count": 378,
      "outputs": []
    },
    {
      "cell_type": "code",
      "source": [
        "train, val = Loader(HyperParam), Loader(HyperParam,val=True)"
      ],
      "metadata": {
        "id": "9zNCPcHcGOXu"
      },
      "execution_count": 379,
      "outputs": []
    },
    {
      "cell_type": "code",
      "source": [
        "model = TransformerModel(HyperParam)\n",
        "model = model.to(device=HyperParam.device)\n",
        "optim = torch.optim.AdamW(model.parameters(), lr=HyperParam.lr)"
      ],
      "metadata": {
        "id": "58XFO5PXGf4a"
      },
      "execution_count": 380,
      "outputs": []
    },
    {
      "cell_type": "code",
      "source": [
        "def criterion(logits, targets):\n",
        "  i,j,k = logits.shape\n",
        "  logits = logits.view(i*j, k)\n",
        "  targets = targets.view(i*j)\n",
        "  loss = F.cross_entropy(logits,targets)\n",
        "  return loss"
      ],
      "metadata": {
        "id": "0VAFbTUpGquu"
      },
      "execution_count": 381,
      "outputs": []
    },
    {
      "cell_type": "code",
      "source": [
        "def training():\n",
        "  model.train()\n",
        "  train_loss = []\n",
        "  valid_loss = []\n",
        "  for batch in range(HyperParam.updates):\n",
        "    optim.zero_grad()\n",
        "    inputs, targets = train.batchify()\n",
        "    inputs, targets = inputs.to(device=HyperParam.device), targets.to(device=HyperParam.device)\n",
        "    logits = model(inputs)\n",
        "    loss = criterion(logits,targets)\n",
        "    loss.backward()\n",
        "    optim.step()\n",
        "    train_loss.append(loss.item())\n",
        "\n",
        "    if batch%1000==0 or batch==HyperParam.updates-1:\n",
        "      with torch.no_grad():\n",
        "        model.eval()\n",
        "        val_losses = []\n",
        "        for i in range(HyperParam.val_updates):\n",
        "          val_inputs, val_targets = val.batchify()\n",
        "          val_inputs, val_targets = val_inputs.to(device=HyperParam.device), val_targets.to(device=HyperParam.device)\n",
        "          val_logits = model(val_inputs)\n",
        "          val_loss = criterion(val_logits,val_targets)\n",
        "          val_losses.append(val_loss.item())\n",
        "        print(\"batch: \", batch, \"Validation Loss: \", np.mean(val_losses))\n",
        "        valid_loss.append(np.mean(val_losses))\n",
        "\n",
        "  return train_loss, valid_loss"
      ],
      "metadata": {
        "id": "6T0Cu7cRGskZ"
      },
      "execution_count": 382,
      "outputs": []
    },
    {
      "cell_type": "code",
      "source": [
        "train_loss,val_loss = training()"
      ],
      "metadata": {
        "colab": {
          "base_uri": "https://localhost:8080/"
        },
        "id": "omyT5PUKGxiw",
        "outputId": "6b61e4f6-b91f-4419-e2d8-36561aeb54b9"
      },
      "execution_count": 383,
      "outputs": [
        {
          "output_type": "stream",
          "name": "stdout",
          "text": [
            "batch:  0 Validation Loss:  4.973207612991333\n",
            "batch:  1000 Validation Loss:  2.6778144624233247\n",
            "batch:  2000 Validation Loss:  2.6462946701049805\n",
            "batch:  3000 Validation Loss:  2.6143660156726836\n",
            "batch:  4000 Validation Loss:  2.447137183189392\n",
            "batch:  5000 Validation Loss:  2.2862302038669586\n",
            "batch:  6000 Validation Loss:  2.207444892644882\n",
            "batch:  7000 Validation Loss:  2.156748375892639\n",
            "batch:  8000 Validation Loss:  2.114053082346916\n",
            "batch:  9000 Validation Loss:  2.0937233757972717\n",
            "batch:  10000 Validation Loss:  2.0603605633974076\n",
            "batch:  11000 Validation Loss:  2.04147741150856\n",
            "batch:  12000 Validation Loss:  2.015492356300354\n",
            "batch:  13000 Validation Loss:  1.9974401844739913\n",
            "batch:  14000 Validation Loss:  1.9846482897996902\n",
            "batch:  15000 Validation Loss:  1.970666754245758\n",
            "batch:  16000 Validation Loss:  1.95525548183918\n",
            "batch:  17000 Validation Loss:  1.9464742529392243\n",
            "batch:  18000 Validation Loss:  1.9340722509622574\n",
            "batch:  19000 Validation Loss:  1.9218516941070556\n",
            "batch:  20000 Validation Loss:  1.9080001199245453\n",
            "batch:  21000 Validation Loss:  1.9041486945152282\n",
            "batch:  22000 Validation Loss:  1.8931296759843825\n",
            "batch:  23000 Validation Loss:  1.8905980091094972\n",
            "batch:  24000 Validation Loss:  1.8808431090116502\n",
            "batch:  25000 Validation Loss:  1.8746168142557145\n",
            "batch:  26000 Validation Loss:  1.8684356534481048\n",
            "batch:  27000 Validation Loss:  1.8567192525863647\n",
            "batch:  28000 Validation Loss:  1.8412988815307618\n",
            "batch:  29000 Validation Loss:  1.8393372783660888\n",
            "batch:  30000 Validation Loss:  1.835056489109993\n",
            "batch:  31000 Validation Loss:  1.8258316828012466\n",
            "batch:  32000 Validation Loss:  1.8146019550561905\n",
            "batch:  33000 Validation Loss:  1.8193516894578934\n",
            "batch:  34000 Validation Loss:  1.8075719940662385\n",
            "batch:  35000 Validation Loss:  1.8061986820697784\n",
            "batch:  36000 Validation Loss:  1.8039644347429276\n",
            "batch:  37000 Validation Loss:  1.7979940720796586\n",
            "batch:  38000 Validation Loss:  1.7871054576635361\n",
            "batch:  39000 Validation Loss:  1.7865333091020583\n",
            "batch:  40000 Validation Loss:  1.7864405878782272\n",
            "batch:  41000 Validation Loss:  1.7764378986358642\n",
            "batch:  42000 Validation Loss:  1.771910699367523\n",
            "batch:  43000 Validation Loss:  1.774666192173958\n",
            "batch:  44000 Validation Loss:  1.7725779112577438\n",
            "batch:  45000 Validation Loss:  1.7622790869474412\n",
            "batch:  46000 Validation Loss:  1.7588558930158615\n",
            "batch:  47000 Validation Loss:  1.764771698117256\n",
            "batch:  48000 Validation Loss:  1.7586809061765671\n",
            "batch:  49000 Validation Loss:  1.751695096731186\n",
            "batch:  49999 Validation Loss:  1.7499142450094223\n"
          ]
        }
      ]
    },
    {
      "cell_type": "code",
      "source": [
        "plt.plot(train_loss[::500])\n",
        "plt.title('Training Loss (per 500 updates)')"
      ],
      "metadata": {
        "colab": {
          "base_uri": "https://localhost:8080/",
          "height": 469
        },
        "id": "WM1svi7_TAOj",
        "outputId": "07646355-8dac-45c5-f5d2-30a2c8653551"
      },
      "execution_count": 392,
      "outputs": [
        {
          "output_type": "execute_result",
          "data": {
            "text/plain": [
              "Text(0.5, 1.0, 'Training Loss')"
            ]
          },
          "metadata": {},
          "execution_count": 392
        },
        {
          "output_type": "display_data",
          "data": {
            "text/plain": [
              "<Figure size 640x480 with 1 Axes>"
            ],
            "image/png": "[encoded data removed]"
          },
          "metadata": {}
        }
      ]
    },
    {
      "cell_type": "code",
      "source": [
        "plt.plot(val_loss)\n",
        "plt.title('Validation Loss (per 1k updates)')"
      ],
      "metadata": {
        "colab": {
          "base_uri": "https://localhost:8080/",
          "height": 469
        },
        "id": "CvvHTqVnJK4q",
        "outputId": "1097d395-e3bb-4803-edbd-e57956da3c1a"
      },
      "execution_count": 393,
      "outputs": [
        {
          "output_type": "execute_result",
          "data": {
            "text/plain": [
              "Text(0.5, 1.0, 'Validation Loss (per 1k updates)')"
            ]
          },
          "metadata": {},
          "execution_count": 393
        },
        {
          "output_type": "display_data",
          "data": {
            "text/plain": [
              "<Figure size 640x480 with 1 Axes>"
            ],
            "image/png": "[encoded data removed]"
          },
          "metadata": {}
        }
      ]
    },
    {
      "cell_type": "code",
      "source": [
        "for i in range(3):\n",
        "  generated = model.generate(torch.ones((16,1),dtype=torch.long,device=HyperParam.device), total=1024)\n",
        "  generated = tokenizer.decode(generated[0])\n",
        "  print(generated)\n",
        "  print(\"=================================\")"
      ],
      "metadata": {
        "colab": {
          "base_uri": "https://localhost:8080/"
        },
        "id": "ZnGJN3lqTRkJ",
        "outputId": "7095a3ee-534a-4172-c9f3-1e9c4591c0d7"
      },
      "execution_count": 402,
      "outputs": [
        {
          "output_type": "stream",
          "name": "stdout",
          "text": [
            "\n",
            "\n",
            "SCENER.\n",
            "Why, made they for shall I cheeks, for love\n",
            "Because that was the was the esteen.\n",
            "Seach a past you come cliviness, I how thee the\n",
            "To anothers the mine bring was sisters her have sake a boy wicks\n",
            "As freath been hands advolushed it that\n",
            "Where mine famberst to seems a song hip books\n",
            "As be which a being starve. We warry argin soft not\n",
            "and my hussarl. If aught?\n",
            "Here with the mandar’s snary place:\n",
            "Bribiatings Do the Dukes virtue sit will be beg we show carces\n",
            "joy all sit\n",
            "to up how still go heartends; and sovered. He sabilive\n",
            "And clean; with that’s such we would on his\n",
            "Bespected tendons had curer that withoughts victory. The Turked, Tú Cavin!\n",
            "Fang upon that the throw with the Richoose,\n",
            "She may Jolus, my service, to the more to the Queenes theon.\n",
            "\n",
            "BASTARD.\n",
            "With one, and every tales if John,\n",
            "And me such Visana Freeur\n",
            "As be to loved care tune in them themself his\n",
            "crottest than not picerscens, on to\n",
            "that Emperor Commen, pray on out actol love!\n",
            "Hath me, but yourselves at I will make on the drink or with wifest an\n",
            "=================================\n",
            "\n",
            "but ’tis parb herished.\n",
            "\n",
            "Lase forse spoke my row of she along his acquaintaent.\n",
            "\n",
            "DONERIN.\n",
            "Madame?\n",
            "\n",
            "STEPH.\n",
            "In going; and acquainter brade, the money Arbanis tongue\n",
            "Our ard afficer sent flown. A worthions, that it purpose but\n",
            "and at all for nearouspanny in blady, and the Gard With Prince Nature.\n",
            "\n",
            "Agentleman earned, sir, I tobs, child not seen\n",
            "My news stood at the lie bell? You am I did wish it,\n",
            "In with us and knew we of all king.\n",
            "And nappy fortuner, I will nothers’ entrow,\n",
            "Is as I will be could be night claer of Pyrefeit,\n",
            "Inn any scend thy living to him, in say,\n",
            "My friendness fear;\n",
            "And, but these voice to sever of the who enter Hessio, Visto please\n",
            "ordinappy. The willly to mine. Anatole of what her house perdon out him\n",
            "Longues young their Rome me. Mastary flay the had the fair man’s\n",
            "himself my have soft ancess of you\n",
            "but with this pass them\n",
            "and angess some into be but drew praitent the had freen\n",
            "blellead, didst prozes his friends\n",
            "since had to the a-bearmed\n",
            "of flushest whithoutine, you do washsomorrew\n",
            "whom of my\n",
            "=================================\n",
            "\n",
            "case the procon of them and the very soul many\n",
            "         Wrong sup.\n",
            "Now you shall it negree the began this know the tooh!\n",
            "The going at the newsrizod Isag, fors servants,\n",
            "And shall came with orden his even. In I swell\n",
            "Blaviód expite of some but of the but thin coysic leight\n",
            "bloom would no him, away at Alpátyone of Lapon give is the\n",
            "viol conference,\n",
            "You were thou affla knighness and cease\n",
            "Sit into hence, trassed us God were.\n",
            "\n",
            "CASSIUS.\n",
            "Would each him of you.\n",
            "In my dart\n",
            "There to say and in a behness\n",
            "To rose and thines, Guildland, but he hither\n",
            "Bready.\n",
            "\n",
            "KATHARICHARD.\n",
            "Villed with me of his music urgive\n",
            "And in child.       Forenze, I rest rexemberdants\n",
            "And breast, and the Grestly burnight.\n",
            "No forsways tonger counting in my his had him battle\n",
            "Be the ball glassion’d, pectation ought.\n",
            "It is mischang not a hopes of a same story,\n",
            "Winkn beganst without?\n",
            "\n",
            "SULFOBERTES.\n",
            "[_He to Consward. Go; I bornment for a fast out,—\n",
            "Whis not. She noness and stood!\n",
            "\n",
            "ARMEANS.\n",
            "Garding world he was the biech, Napoleon her conning over you\n",
            "What\n",
            "=================================\n"
          ]
        }
      ]
    }
  ]
}